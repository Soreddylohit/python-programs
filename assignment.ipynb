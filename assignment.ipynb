{
 "cells": [
  {
   "cell_type": "code",
   "execution_count": 6,
   "metadata": {},
   "outputs": [
    {
     "name": "stdout",
     "output_type": "stream",
     "text": [
      "sum = 550\n"
     ]
    }
   ],
   "source": [
    "#sum of all numbers in list\n",
    "\n",
    "c=[10,20,30,40,50,60,70,80,90,100]\n",
    "k=0\n",
    "for i in range(len(c)):\n",
    "    k=k+c[i]\n",
    "print(\"sum =\",k)\n",
    "    "
   ]
  },
  {
   "cell_type": "code",
   "execution_count": 16,
   "metadata": {},
   "outputs": [
    {
     "name": "stdout",
     "output_type": "stream",
     "text": [
      "largest = 200\n"
     ]
    }
   ],
   "source": [
    "# largest number in the list\n",
    "\n",
    "c=[10,200,30,40,50,60,70,80,90,100]\n",
    "k=0\n",
    "for i in range(len(c)):\n",
    "    if(k<c[i]):\n",
    "        k=c[i]\n",
    "print(\"largest =\",k)\n"
   ]
  },
  {
   "cell_type": "code",
   "execution_count": 25,
   "metadata": {},
   "outputs": [],
   "source": [
    "# common numbers in list\n",
    "c=[10,20,30,40,50,60,70,80,90,100]\n",
    "b=[1,2,3,4,5,6,7,8,9,10,100]\n",
    "for i in range(len(c)):\n",
    "    if(c[i]==b[i]):\n",
    "        "
   ]
  },
  {
   "cell_type": "code",
   "execution_count": 28,
   "metadata": {},
   "outputs": [
    {
     "name": "stdout",
     "output_type": "stream",
     "text": [
      "10 30 50 60 70 80 100 "
     ]
    }
   ],
   "source": [
    "#print all even numbers from list\n",
    "\n",
    "c=[10,207,30,49,50,60,70,80,93,100]\n",
    "\n",
    "for i in range(len(c)):\n",
    "    if(c[i]%2==0):\n",
    "        print(c[i],end=\" \")"
   ]
  },
  {
   "cell_type": "code",
   "execution_count": 47,
   "metadata": {},
   "outputs": [
    {
     "name": "stdout",
     "output_type": "stream",
     "text": [
      "even from list =  [10, 30, 50, 60, 70, 80, 100]\n",
      "odd form list =  [207, 49, 93]\n"
     ]
    }
   ],
   "source": [
    "#seperating even and odd from the list\n",
    "\n",
    "c=[10,207,30,49,50,60,70,80,93,100]\n",
    "b=[]\n",
    "d=[]\n",
    "\n",
    "for i in range(len(c)):\n",
    "    if(c[i]%2==0):\n",
    "        b.append(c[i])\n",
    "    else:\n",
    "        d.append(c[i])\n",
    "print(\"even from list = \",b)\n",
    "print(\"odd form list = \",d)"
   ]
  },
  {
   "cell_type": "code",
   "execution_count": 7,
   "metadata": {},
   "outputs": [
    {
     "ename": "SyntaxError",
     "evalue": "unexpected EOF while parsing (<ipython-input-7-6d22715c3423>, line 10)",
     "output_type": "error",
     "traceback": [
      "\u001b[1;36m  File \u001b[1;32m\"<ipython-input-7-6d22715c3423>\"\u001b[1;36m, line \u001b[1;32m10\u001b[0m\n\u001b[1;33m    \u001b[0m\n\u001b[1;37m    ^\u001b[0m\n\u001b[1;31mSyntaxError\u001b[0m\u001b[1;31m:\u001b[0m unexpected EOF while parsing\n"
     ]
    }
   ],
   "source": [
    "# remove repeated numbers form list\n",
    "c=[10,20,300,40,10,60,20,80,40,100]\n",
    "f=[]\n",
    "f=f.copy(c)\n",
    "l=[]\n",
    "j=0\n",
    "p=[]\n",
    "for i in range(1,len(c)):\n",
    "    c[]\n",
    "    \n",
    "\n"
   ]
  },
  {
   "cell_type": "code",
   "execution_count": 99,
   "metadata": {},
   "outputs": [
    {
     "ename": "IndexError",
     "evalue": "list assignment index out of range",
     "output_type": "error",
     "traceback": [
      "\u001b[1;31m---------------------------------------------------------------------------\u001b[0m",
      "\u001b[1;31mIndexError\u001b[0m                                Traceback (most recent call last)",
      "\u001b[1;32m<ipython-input-99-6301f2737be1>\u001b[0m in \u001b[0;36m<module>\u001b[1;34m\u001b[0m\n\u001b[0;32m      2\u001b[0m \u001b[0mn\u001b[0m\u001b[1;33m=\u001b[0m\u001b[1;33m[\u001b[0m\u001b[1;33m]\u001b[0m\u001b[1;33m\u001b[0m\u001b[1;33m\u001b[0m\u001b[0m\n\u001b[0;32m      3\u001b[0m \u001b[1;32mfor\u001b[0m \u001b[0mi\u001b[0m \u001b[1;32min\u001b[0m \u001b[0mrange\u001b[0m\u001b[1;33m(\u001b[0m\u001b[0mlen\u001b[0m\u001b[1;33m(\u001b[0m\u001b[0mc\u001b[0m\u001b[1;33m)\u001b[0m\u001b[1;33m)\u001b[0m\u001b[1;33m:\u001b[0m\u001b[1;33m\u001b[0m\u001b[1;33m\u001b[0m\u001b[0m\n\u001b[1;32m----> 4\u001b[1;33m     \u001b[0mn\u001b[0m\u001b[1;33m[\u001b[0m\u001b[0mi\u001b[0m\u001b[1;33m]\u001b[0m\u001b[1;33m=\u001b[0m\u001b[0mc\u001b[0m\u001b[1;33m.\u001b[0m\u001b[0mcount\u001b[0m\u001b[1;33m(\u001b[0m\u001b[0mc\u001b[0m\u001b[1;33m[\u001b[0m\u001b[0mi\u001b[0m\u001b[1;33m]\u001b[0m\u001b[1;33m)\u001b[0m\u001b[1;33m\u001b[0m\u001b[1;33m\u001b[0m\u001b[0m\n\u001b[0m\u001b[0;32m      5\u001b[0m     \u001b[1;32mif\u001b[0m \u001b[1;33m(\u001b[0m\u001b[0mn\u001b[0m\u001b[1;33m[\u001b[0m\u001b[0mi\u001b[0m\u001b[1;33m]\u001b[0m\u001b[1;33m>\u001b[0m\u001b[1;36m1\u001b[0m\u001b[1;33m)\u001b[0m\u001b[1;33m:\u001b[0m\u001b[1;33m\u001b[0m\u001b[1;33m\u001b[0m\u001b[0m\n\u001b[0;32m      6\u001b[0m         \u001b[0mc\u001b[0m\u001b[1;33m=\u001b[0m\u001b[0mc\u001b[0m\u001b[1;33m.\u001b[0m\u001b[0mremove\u001b[0m\u001b[1;33m(\u001b[0m\u001b[0mc\u001b[0m\u001b[1;33m[\u001b[0m\u001b[0mi\u001b[0m\u001b[1;33m]\u001b[0m\u001b[1;33m)\u001b[0m\u001b[1;33m\u001b[0m\u001b[1;33m\u001b[0m\u001b[0m\n",
      "\u001b[1;31mIndexError\u001b[0m: list assignment index out of range"
     ]
    }
   ],
   "source": [
    "c=[10,20,300,40,10,60,20,80,40,100]\n",
    "n=[]\n",
    "for i in range(len(c)):\n",
    "    n[i]=c.count(c[i])\n",
    "    if (n[i]>1):\n",
    "        c=c.remove(c[i])"
   ]
  },
  {
   "cell_type": "code",
   "execution_count": 201,
   "metadata": {},
   "outputs": [
    {
     "name": "stdout",
     "output_type": "stream",
     "text": [
      "The longest word -  howareyou\n",
      "length 9\n"
     ]
    }
   ],
   "source": [
    "#longest word in sentence\n",
    "d=\" hi bro wahtaspp howareyou\"\n",
    "k=0\n",
    "f=len(c[i])\n",
    "c=d.split(\" \")\n",
    "for i in range(len(c)):\n",
    "    if(k<len(c[i])):\n",
    "        k=len(c[i])\n",
    "for i in range(len(c)):\n",
    "    if (len(c[i])==k):\n",
    "        print(\"The longest word - \",c[i])\n",
    "print(\"length\",k)  \n",
    "\n",
    "\n",
    "\n",
    "\n"
   ]
  },
  {
   "cell_type": "code",
   "execution_count": 259,
   "metadata": {},
   "outputs": [
    {
     "name": "stdout",
     "output_type": "stream",
     "text": [
      "howareyou\n",
      "1\n"
     ]
    }
   ],
   "source": [
    "#partial correct...without.count function\n",
    "\n",
    "d=\"hi bro whatsapp hi hi howareyou\"\n",
    "c=d.split(\" \")\n",
    "g=input()\n",
    "f=c.index(g)\n",
    "j=f\n",
    "count=0\n",
    "for i in range(len(c)):\n",
    "    #print(c[i])\n",
    "    if(c[i]==c[j]):\n",
    "        count=count+1\n",
    "          \n",
    "print(count)"
   ]
  },
  {
   "cell_type": "code",
   "execution_count": 320,
   "metadata": {},
   "outputs": [
    {
     "name": "stdout",
     "output_type": "stream",
     "text": [
      "google.co.in\n",
      "yahoo.in\n",
      "youtube.in\n",
      "apsrtc.org\n",
      "harshith.com\n"
     ]
    }
   ],
   "source": [
    "#websites filtering\n",
    "\n",
    "p=[\"helloworld.dj\",\"madmax.pt\",\"google.co.in\",\n",
    "   \"yahoo.in\",\"youtube.in\",\"apsrtc.org\",\n",
    "   \"playstation.uk\",\"harshith.com\"]\n",
    "\n",
    "\n",
    "\n",
    "for i in range (len(p)):\n",
    "    b=\".in\"\n",
    "    h=\".org\"\n",
    "    l=\".net\"\n",
    "    v=\".com\"\n",
    "    if b in p[i] or h in p[i] or l in p[i] or v in p[i] :\n",
    "        print(p[i])\n",
    "    "
   ]
  },
  {
   "cell_type": "code",
   "execution_count": 579,
   "metadata": {},
   "outputs": [
    {
     "data": {
      "text/plain": [
       "[3]"
      ]
     },
     "execution_count": 579,
     "metadata": {},
     "output_type": "execute_result"
    }
   ],
   "source": [
    "w=[]\n",
    "k=999999\n",
    "q=[12,122,3,4,533,22,55,7]\n",
    "a=0\n",
    "for i in range (len(q)):\n",
    "    if(k>q[i]):\n",
    "        k=q[i]\n",
    "\n",
    "w.append(k)\n",
    "w\n",
    "\n",
    "\n",
    "\n",
    "\n",
    "\n",
    "        \n",
    "        \n",
    "\n",
    "\n",
    "\n",
    "       \n",
    "\n",
    "\n",
    "    \n"
   ]
  },
  {
   "cell_type": "code",
   "execution_count": 574,
   "metadata": {},
   "outputs": [
    {
     "data": {
      "text/plain": [
       "[3]"
      ]
     },
     "execution_count": 574,
     "metadata": {},
     "output_type": "execute_result"
    }
   ],
   "source": [
    "w"
   ]
  },
  {
   "cell_type": "code",
   "execution_count": 578,
   "metadata": {},
   "outputs": [
    {
     "data": {
      "text/plain": [
       "[12, 122, 3, 4, 533, 22, 55, 7]"
      ]
     },
     "execution_count": 578,
     "metadata": {},
     "output_type": "execute_result"
    }
   ],
   "source": [
    "q"
   ]
  },
  {
   "cell_type": "code",
   "execution_count": 90,
   "metadata": {},
   "outputs": [
    {
     "name": "stdout",
     "output_type": "stream",
     "text": [
      "10 1\n",
      "10 2\n"
     ]
    }
   ],
   "source": [
    "# remove repeated numbers form list\n",
    "c=[10,20,300,40,10,60,20,80,40,100]\n",
    "count=0\n",
    "j=6\n",
    "\n",
    "\n",
    "for i in (c):\n",
    "    for j in range(0,len(c)):\n",
    "        if(i==c[j]):\n",
    "            count=count+1\n",
    "            print(i,count)\n",
    "            \n",
    "            \n",
    "            \n",
    "    break\n",
    "    \n",
    "\n",
    "\n",
    "\n",
    "        \n"
   ]
  },
  {
   "cell_type": "code",
   "execution_count": 10,
   "metadata": {},
   "outputs": [],
   "source": [
    "h=[1,23,45,6,7,8,76,5432]\n",
    "j=set(h)"
   ]
  },
  {
   "cell_type": "code",
   "execution_count": 12,
   "metadata": {},
   "outputs": [],
   "source": [
    "k=list(j)"
   ]
  },
  {
   "cell_type": "code",
   "execution_count": 13,
   "metadata": {},
   "outputs": [
    {
     "data": {
      "text/plain": [
       "[1, 6, 7, 8, 76, 45, 23, 5432]"
      ]
     },
     "execution_count": 13,
     "metadata": {},
     "output_type": "execute_result"
    }
   ],
   "source": [
    "k"
   ]
  },
  {
   "cell_type": "code",
   "execution_count": null,
   "metadata": {},
   "outputs": [],
   "source": []
  },
  {
   "cell_type": "code",
   "execution_count": null,
   "metadata": {},
   "outputs": [],
   "source": []
  }
 ],
 "metadata": {
  "kernelspec": {
   "display_name": "Python 3",
   "language": "python",
   "name": "python3"
  },
  "language_info": {
   "codemirror_mode": {
    "name": "ipython",
    "version": 3
   },
   "file_extension": ".py",
   "mimetype": "text/x-python",
   "name": "python",
   "nbconvert_exporter": "python",
   "pygments_lexer": "ipython3",
   "version": "3.7.3"
  }
 },
 "nbformat": 4,
 "nbformat_minor": 2
}
